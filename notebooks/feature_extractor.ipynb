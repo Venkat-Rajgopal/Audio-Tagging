{
 "cells": [
  {
   "cell_type": "code",
   "execution_count": 1,
   "metadata": {},
   "outputs": [],
   "source": [
    "# import all libs\n",
    "import os\n",
    "from collections import Counter\n",
    "\n",
    "import numpy as np\n",
    "import pandas as pd\n",
    "import matplotlib.pyplot as plt\n",
    "\n",
    "import librosa\n",
    "from scipy.io import wavfile\n",
    "\n",
    "from sklearn.ensemble import RandomForestClassifier\n",
    "from sklearn.metrics import precision_score\n",
    "from sklearn.metrics import make_scorer\n",
    "from sklearn import preprocessing\n",
    "\n",
    "from sklearn.preprocessing import PolynomialFeatures\n",
    "from sklearn import linear_model\n",
    "from sklearn.utils import shuffle\n",
    "from sklearn import manifold, datasets\n",
    "from sklearn.preprocessing import scale"
   ]
  },
  {
   "cell_type": "code",
   "execution_count": 7,
   "metadata": {},
   "outputs": [],
   "source": [
    "os.chdir('../')"
   ]
  },
  {
   "cell_type": "code",
   "execution_count": 44,
   "metadata": {},
   "outputs": [],
   "source": [
    "path = os.getcwd()"
   ]
  },
  {
   "cell_type": "code",
   "execution_count": 69,
   "metadata": {},
   "outputs": [],
   "source": [
    "# create different features\n",
    "# running mean of a signal\n",
    "def running_mean(x, N):\n",
    "    cumsum = np.cumsum(np.insert(x, 0, 0))\n",
    "    run_mean = (cumsum[N:] - cumsum[:-N]) / float(N)\n",
    "    return run_mean"
   ]
  },
  {
   "cell_type": "code",
   "execution_count": 33,
   "metadata": {},
   "outputs": [],
   "source": [
    "dir_path = 'data/audio_train/'\n",
    "# get all wav files \n",
    "score_filelist = [str(x) for x in os.listdir(dir_path)]\n",
    "labelnames = np.repeat('unlabeled', len(score_filelist))\n",
    "le = preprocessing.LabelEncoder()\n",
    "le.fit(labelnames)\n",
    "files_labels = zip(score_filelist, labelnames)"
   ]
  },
  {
   "cell_type": "code",
   "execution_count": null,
   "metadata": {
    "scrolled": true
   },
   "outputs": [],
   "source": [
    "# map filenames with the labels\n",
    "training = 1\n",
    "trainnames = pd.read_csv(path + '/data' + '/train.csv')\n",
    "labelnames = list(trainnames['label'].unique())\n",
    "le = preprocessing.LabelEncoder()\n",
    "le.fit(labelnames)\n",
    "files_labels = zip(trainnames['fname'].values, trainnames['label'].values)\n",
    "\n",
    "\n",
    "for filename, labelname in files_labels:\n",
    "    label = le.transform([labelname])\n",
    "    fname = dir_path + filename\n",
    "    fs, rawsignal = wavfile.read(fname)\n",
    "    \n",
    "    nb_bits = 16 # since all wav are 16bits\n",
    "    max_nb_bit = float(2 ** (nb_bits - 1))\n",
    "    \n",
    "    # get signal features\n",
    "    for wd in [2000, 10000]:\n",
    "        rawsignal_sq_rm = running_mean(rawsignal, wd)\n",
    "        \n",
    "        \n"
   ]
  },
  {
   "cell_type": "code",
   "execution_count": null,
   "metadata": {},
   "outputs": [],
   "source": [
    "max_"
   ]
  }
 ],
 "metadata": {
  "kernelspec": {
   "display_name": "Python 3",
   "language": "python",
   "name": "python3"
  },
  "language_info": {
   "codemirror_mode": {
    "name": "ipython",
    "version": 3
   },
   "file_extension": ".py",
   "mimetype": "text/x-python",
   "name": "python",
   "nbconvert_exporter": "python",
   "pygments_lexer": "ipython3",
   "version": "3.7.3"
  }
 },
 "nbformat": 4,
 "nbformat_minor": 2
}
