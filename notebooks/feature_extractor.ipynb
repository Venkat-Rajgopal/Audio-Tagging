{
 "cells": [
  {
   "cell_type": "code",
   "execution_count": 1,
   "metadata": {},
   "outputs": [],
   "source": [
    "# import all libs\n",
    "import os\n",
    "from collections import Counter\n",
    "\n",
    "import numpy as np\n",
    "import pandas as pd\n",
    "import matplotlib.pyplot as plt\n",
    "\n",
    "import librosa\n",
    "from scipy.io import wavfile\n",
    "\n",
    "from sklearn.ensemble import RandomForestClassifier\n",
    "from sklearn.metrics import precision_score\n",
    "from sklearn.metrics import make_scorer\n",
    "from sklearn import preprocessing\n",
    "\n",
    "from sklearn.preprocessing import PolynomialFeatures\n",
    "from sklearn import linear_model\n",
    "from sklearn.utils import shuffle\n",
    "from sklearn import manifold, datasets\n",
    "from sklearn.preprocessing import scale"
   ]
  },
  {
   "cell_type": "code",
   "execution_count": 7,
   "metadata": {},
   "outputs": [],
   "source": [
    "os.chdir('../')"
   ]
  },
  {
   "cell_type": "code",
   "execution_count": 44,
   "metadata": {},
   "outputs": [],
   "source": [
    "path = os.getcwd()"
   ]
  },
  {
   "cell_type": "code",
   "execution_count": 97,
   "metadata": {},
   "outputs": [],
   "source": [
    "# create different features\n",
    "# running mean of a signal\n",
    "def running_mean(x, N):\n",
    "    cumsum = np.cumsum(np.insert(x, 0, 0))\n",
    "    run_mean = (cumsum[N:] - cumsum[:-N]) / float(N)\n",
    "    return run_mean\n",
    "\n",
    "def get_width(w):\n",
    "    if np.sum(w) == 0:\n",
    "        return [0,0,0]\n",
    "    else:\n",
    "        z = np.diff(np.where(np.insert(np.append(w,0),0,0)==0))-1\n",
    "        z = z[z>0]\n",
    "    return [np.log(1+np.mean(z)),np.log(1+np.std(z)),np.log(1+np.max(z)),len(z)]\n",
    "\n",
    "def get_spectra_win(y, L, N):\n",
    "    dft = np.fft.fft(y)\n",
    "    fl = np.abs(dft)\n",
    "    xf = np.arange(0.0, N/L, 1/L)\n",
    "    return (xf,fl)\n",
    "\n",
    "# get mean and standard spectrum\n",
    "def get_spectra(signal, fs, M = 1000, sM = 500):\n",
    "\n",
    "    N = signal.shape[0]\n",
    "    ind = np.arange(100, N, M)\n",
    "\n",
    "    spectra = []\n",
    "    meanspectrum = np.repeat(0,M)\n",
    "\n",
    "    for k in range(1,len(ind)):\n",
    "        n1 = ind[k-1]\n",
    "        n2 = ind[k]\n",
    "        y = signal[n1:n2]\n",
    "        L = (n2-n1)/fs\n",
    "        N = n2-n1\n",
    "        (xq, fq) = get_spectra_win(y, L, N)\n",
    "        spectra.append(fq)\n",
    "\n",
    "    spectra = pd.DataFrame(spectra)\n",
    "    meanspectrum = spectra.apply(lambda x: np.log(1+np.mean(x)), axis=0)\n",
    "    stdspectrum = spectra.apply(lambda x: np.log(1+np.std(x)), axis=0)\n",
    "    \n",
    "    meanspectrum = meanspectrum[0:sM]\n",
    "    stdspectrum = stdspectrum[0:sM]\n",
    "    \n",
    "    return (meanspectrum, stdspectrum) "
   ]
  },
  {
   "cell_type": "code",
   "execution_count": 33,
   "metadata": {},
   "outputs": [],
   "source": [
    "dir_path = 'data/audio_train/'\n",
    "# get all wav files \n",
    "score_filelist = [str(x) for x in os.listdir(dir_path)]\n",
    "labelnames = np.repeat('unlabeled', len(score_filelist))\n",
    "le = preprocessing.LabelEncoder()\n",
    "le.fit(labelnames)\n",
    "files_labels = zip(score_filelist, labelnames)"
   ]
  },
  {
   "cell_type": "code",
   "execution_count": 99,
   "metadata": {
    "scrolled": false
   },
   "outputs": [],
   "source": [
    "# map filenames with the labels\n",
    "trainnames = pd.read_csv(path + '/data' + '/train.csv')\n",
    "labelnames = list(trainnames['label'].unique())\n",
    "le = preprocessing.LabelEncoder()\n",
    "le.fit(labelnames)\n",
    "files_labels = zip(trainnames['fname'].values, trainnames['label'].values)\n",
    "\n",
    "df_m = []\n",
    "df_sd = []\n",
    "df_sig = []\n",
    "\n",
    "\n",
    "for filename, labelname in files_labels:\n",
    "    label = le.transform([labelname])\n",
    "    fname = dir_path + filename\n",
    "    fs, rawsignal = wavfile.read(fname)\n",
    "    \n",
    "    # normalize signals based on bit rate\n",
    "    nb_bits = 16 # since all wav are 16bits\n",
    "    max_nb_bit = float(2 ** (nb_bits - 1))\n",
    "    rawsignal = rawsignal / max_nb_bit\n",
    "    \n",
    "    \n",
    "    # get signal features\n",
    "    # create lists\n",
    "    rawsignal_sq = rawsignal*rawsignal\n",
    "    silenced = []\n",
    "    sound = []\n",
    "    attack = []\n",
    "    \n",
    "    # compute running mean and get the silenced signal\n",
    "    for wd in [2000, 10000]:\n",
    "        rawsignal_sq_rm = running_mean(rawsignal_sq, wd)\n",
    "        w1 = 1*(rawsignal_sq_rm<0.01*np.max(rawsignal_sq_rm))\n",
    "        silenced = silenced + get_width(w1)\n",
    "        w2 = 1*(rawsignal_sq_rm<0.05*np.max(rawsignal_sq_rm))\n",
    "        silenced = silenced + get_width(w2)\n",
    "        w3 = 1*(rawsignal_sq_rm>0.05*np.max(rawsignal_sq_rm))\n",
    "        sound = sound + get_width(w3)\n",
    "        w4 = 1*(rawsignal_sq_rm>0.25*np.max(rawsignal_sq_rm))\n",
    "        sound = sound + get_width(w4)\n",
    "        \n",
    "        time_to_attack = np.min(np.where(rawsignal_sq_rm>0.99*np.max(rawsignal_sq_rm)))\n",
    "        time_rel = np.where(rawsignal_sq_rm<0.2*np.max(rawsignal_sq_rm))[0]\n",
    "        if (time_rel.size == 0):\n",
    "            time_to_relax = len(rawsignal_sq_rm)\n",
    "        elif (time_rel[time_rel>time_to_attack].size==0):\n",
    "            time_to_relax = len(rawsignal_sq_rm)\n",
    "        else:\n",
    "            time_to_relax = np.min(time_rel[time_rel>time_to_attack])\n",
    "        attack.append(np.log(1+time_to_attack))\n",
    "        attack.append(np.log(1+time_to_relax))\n",
    "        \n",
    "    lr = len(rawsignal)\n",
    "    zerocross_tot = np.log(1+np.sum(np.array(rawsignal[0:(lr-1)])*np.array(rawsignal[1:lr])<=0))\n",
    "    zerocross_prop = np.sum(np.array(rawsignal[0:(lr-1)])*np.array(rawsignal[1:lr])<=0)/lr\n",
    "    \n",
    "    # collect all features\n",
    "    df_sig.append(sound+silenced+attack+[zerocross_tot,zerocross_prop])\n",
    "\n",
    "    # get specto params and add to respective df's\n",
    "    (m, sd) = get_spectra(rawsignal, fs, 2000, 1000)\n",
    "    df_m.append(m)\n",
    "    df_sd.append(sd)"
   ]
  },
  {
   "cell_type": "code",
   "execution_count": 108,
   "metadata": {
    "scrolled": true
   },
   "outputs": [
    {
     "data": {
      "text/plain": [
       "(9473, 9473, 9473)"
      ]
     },
     "execution_count": 108,
     "metadata": {},
     "output_type": "execute_result"
    }
   ],
   "source": [
    "# get length of features\n",
    "len(df_m), len(df_sd), len(df_sig)"
   ]
  },
  {
   "cell_type": "code",
   "execution_count": 110,
   "metadata": {},
   "outputs": [
    {
     "data": {
      "text/plain": [
       "(1000, 1000, 38)"
      ]
     },
     "execution_count": 110,
     "metadata": {},
     "output_type": "execute_result"
    }
   ],
   "source": [
    "# with every id having 1000 feature points\n",
    "len(df_m[9000]), len(df_sd[9000]), len(df_sig[9000])"
   ]
  },
  {
   "cell_type": "code",
   "execution_count": 116,
   "metadata": {
    "scrolled": false
   },
   "outputs": [
    {
     "data": {
      "text/plain": [
       "[<matplotlib.lines.Line2D at 0x140a0fa58>]"
      ]
     },
     "execution_count": 116,
     "metadata": {},
     "output_type": "execute_result"
    },
    {
     "data": {
      "image/png": "[encoded data removed]",
      "text/plain": [
       "<Figure size 432x288 with 1 Axes>"
      ]
     },
     "metadata": {
      "needs_background": "light"
     },
     "output_type": "display_data"
    }
   ],
   "source": [
    "plt.plot(df_sd[1])"
   ]
  },
  {
   "cell_type": "markdown",
   "metadata": {},
   "source": [
    "## Plots of some rawsignals and extracted features"
   ]
  },
  {
   "cell_type": "code",
   "execution_count": 92,
   "metadata": {
    "scrolled": false
   },
   "outputs": [
    {
     "data": {
      "text/plain": [
       "('fff81f55.wav', 'Cough')"
      ]
     },
     "execution_count": 92,
     "metadata": {},
     "output_type": "execute_result"
    }
   ],
   "source": [
    "filename, labelname"
   ]
  },
  {
   "cell_type": "code",
   "execution_count": 89,
   "metadata": {
    "scrolled": false
   },
   "outputs": [
    {
     "data": {
      "text/plain": [
       "[<matplotlib.lines.Line2D at 0x13cd6aa58>]"
      ]
     },
     "execution_count": 89,
     "metadata": {},
     "output_type": "execute_result"
    },
    {
     "data": {
      "image/png": "[encoded data removed]",
      "text/plain": [
       "<Figure size 432x288 with 1 Axes>"
      ]
     },
     "metadata": {
      "needs_background": "light"
     },
     "output_type": "display_data"
    }
   ],
   "source": [
    "plt.plot(rawsignal)"
   ]
  },
  {
   "cell_type": "code",
   "execution_count": 80,
   "metadata": {
    "scrolled": true
   },
   "outputs": [
    {
     "data": {
      "text/plain": [
       "Text(0.5, 1.0, 'Normalised signal')"
      ]
     },
     "execution_count": 80,
     "metadata": {},
     "output_type": "execute_result"
    },
    {
     "data": {
      "image/png": "[encoded data removed]",
      "text/plain": [
       "<Figure size 432x288 with 1 Axes>"
      ]
     },
     "metadata": {
      "needs_background": "light"
     },
     "output_type": "display_data"
    }
   ],
   "source": [
    "plt.plot(rawsignal/max_nb_bit)\n",
    "plt.title('Normalised signal')"
   ]
  },
  {
   "cell_type": "code",
   "execution_count": 91,
   "metadata": {
    "scrolled": true
   },
   "outputs": [
    {
     "data": {
      "text/plain": [
       "[<matplotlib.lines.Line2D at 0x1328b5d30>]"
      ]
     },
     "execution_count": 91,
     "metadata": {},
     "output_type": "execute_result"
    },
    {
     "data": {
      "image/png": "[encoded data removed]",
      "text/plain": [
       "<Figure size 432x288 with 1 Axes>"
      ]
     },
     "metadata": {
      "needs_background": "light"
     },
     "output_type": "display_data"
    }
   ],
   "source": [
    "plt.plot(rawsignal_sq_rm)"
   ]
  },
  {
   "cell_type": "code",
   "execution_count": 90,
   "metadata": {
    "scrolled": true
   },
   "outputs": [
    {
     "data": {
      "text/plain": [
       "[<matplotlib.lines.Line2D at 0x13cad0358>]"
      ]
     },
     "execution_count": 90,
     "metadata": {},
     "output_type": "execute_result"
    },
    {
     "data": {
      "image/png": "[encoded data removed]",
      "text/plain": [
       "<Figure size 432x288 with 1 Axes>"
      ]
     },
     "metadata": {
      "needs_background": "light"
     },
     "output_type": "display_data"
    }
   ],
   "source": [
    "#rawsignal = rawsignal/max_nb_bit\n",
    "plt.plot(rawsignal_sq)"
   ]
  },
  {
   "cell_type": "code",
   "execution_count": 93,
   "metadata": {
    "scrolled": true
   },
   "outputs": [
    {
     "data": {
      "text/plain": [
       "[<matplotlib.lines.Line2D at 0x1329b6eb8>]"
      ]
     },
     "execution_count": 93,
     "metadata": {},
     "output_type": "execute_result"
    },
    {
     "data": {
      "image/png": "[encoded data removed]",
      "text/plain": [
       "<Figure size 432x288 with 1 Axes>"
      ]
     },
     "metadata": {
      "needs_background": "light"
     },
     "output_type": "display_data"
    }
   ],
   "source": [
    "plt.plot(silenced)"
   ]
  },
  {
   "cell_type": "markdown",
   "metadata": {},
   "source": [
    "## Mel Frequency Coefficients (MFCC) features"
   ]
  },
  {
   "cell_type": "code",
   "execution_count": null,
   "metadata": {},
   "outputs": [],
   "source": [
    "# try for a single signal\n"
   ]
  }
 ],
 "metadata": {
  "kernelspec": {
   "display_name": "Python 3",
   "language": "python",
   "name": "python3"
  },
  "language_info": {
   "codemirror_mode": {
    "name": "ipython",
    "version": 3
   },
   "file_extension": ".py",
   "mimetype": "text/x-python",
   "name": "python",
   "nbconvert_exporter": "python",
   "pygments_lexer": "ipython3",
   "version": "3.7.3"
  }
 },
 "nbformat": 4,
 "nbformat_minor": 2
}
